{
  "nbformat": 4,
  "nbformat_minor": 0,
  "metadata": {
    "colab": {
      "name": "newton.ipynb",
      "version": "0.3.2",
      "provenance": [],
      "collapsed_sections": []
    },
    "kernelspec": {
      "name": "python2",
      "display_name": "Python 2"
    }
  },
  "cells": [
    {
      "cell_type": "markdown",
      "metadata": {
        "id": "view-in-github",
        "colab_type": "text"
      },
      "source": [
        "[View in Colaboratory](https://colab.research.google.com/github/TomohiroKida/data_mining/blob/master/newton.ipynb)"
      ]
    },
    {
      "metadata": {
        "id": "gq_mVUHu9J6h",
        "colab_type": "code",
        "colab": {
          "base_uri": "https://localhost:8080/",
          "height": 187
        },
        "outputId": "9c4c1696-f0fd-4528-8806-b42b21fc3ac5"
      },
      "cell_type": "code",
      "source": [
        "import numpy as np\n",
        "\n",
        "# newton method for numeric value\n",
        "def newton_method(x):\n",
        "  # 1st derivative\n",
        "  df  = np.array([[4*x[0,0]**3  - 4*x[1,0]*x[0,0] + 2*x[0,0] - 2],\n",
        "                  [-2*x[0,0]**2 + 2*x[1,0]                      ]])\n",
        "  # 2nd derivative\n",
        "  dff = np.array([[12*x[0,0]**2 - 4*x[1,0] + 2, -4*x[0,0]], \n",
        "                  [                  -4*x[0,0],        2]]) \n",
        "  # reverse matrix\n",
        "  inv_dff = np.linalg.inv(dff)\n",
        "  x = x - np.dot(inv_dff, df)\n",
        "  \n",
        "  return x\n",
        "\n",
        "def main ():\n",
        "  x = np.array([[10],[10]])\n",
        "  for i in range(10):\n",
        "    print('{0}:{1}'.format(i,x.T))\n",
        "    x = newton_method(x)\n",
        "if __name__ == '__main__':\n",
        "  main()"
      ],
      "execution_count": 1,
      "outputs": [
        {
          "output_type": "stream",
          "text": [
            "0:[[10 10]]\n",
            "1:[[ 9.95027624 99.00552486]]\n",
            "2:[[  1.04404048 -78.23101493]]\n",
            "3:[[1.04376461 1.08944449]]\n",
            "4:[[1.00000001 0.99808467]]\n",
            "5:[[1. 1.]]\n",
            "6:[[1. 1.]]\n",
            "7:[[1. 1.]]\n",
            "8:[[1. 1.]]\n",
            "9:[[1. 1.]]\n"
          ],
          "name": "stdout"
        }
      ]
    },
    {
      "metadata": {
        "id": "6douhA-QKULo",
        "colab_type": "code",
        "colab": {
          "base_uri": "https://localhost:8080/",
          "height": 187
        },
        "outputId": "33b49d3d-aa0c-4eea-8a26-2b0e6a86cb9c"
      },
      "cell_type": "code",
      "source": [
        "import numpy as np\n",
        "\n",
        "# newton method for numeric value\n",
        "def newton_method(x):\n",
        "  # 1st derivative\n",
        "  df  = np.array([[ 4*x[0,0] - 2*x[1,0] -   6],\n",
        "                  [10*x[1,0]  - 2*x[0,0] + 12]])\n",
        "  # 2nd derivative\n",
        "  dff = np.array([[ 4,-2], \n",
        "                  [-2,10]]) \n",
        "  # reverse matrix\n",
        "  inv_dff = np.linalg.inv(dff)\n",
        "  x = x - np.dot(inv_dff, df)\n",
        "  \n",
        "  return x\n",
        "\n",
        "def main ():\n",
        "  x = np.array([[100],[100]])\n",
        "  for i in range(10):\n",
        "    print('{0}:{1}'.format(i,x.T))\n",
        "    x = newton_method(x)\n",
        "if __name__ == '__main__':\n",
        "  main()"
      ],
      "execution_count": 3,
      "outputs": [
        {
          "output_type": "stream",
          "text": [
            "0:[[100 100]]\n",
            "1:[[ 1. -1.]]\n",
            "2:[[ 1. -1.]]\n",
            "3:[[ 1. -1.]]\n",
            "4:[[ 1. -1.]]\n",
            "5:[[ 1. -1.]]\n",
            "6:[[ 1. -1.]]\n",
            "7:[[ 1. -1.]]\n",
            "8:[[ 1. -1.]]\n",
            "9:[[ 1. -1.]]\n"
          ],
          "name": "stdout"
        }
      ]
    }
  ]
}