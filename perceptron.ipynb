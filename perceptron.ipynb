{
  "nbformat": 4,
  "nbformat_minor": 0,
  "metadata": {
    "colab": {
      "name": "perceptron.ipynb",
      "version": "0.3.2",
      "provenance": [],
      "collapsed_sections": []
    },
    "kernelspec": {
      "name": "python2",
      "display_name": "Python 2"
    }
  },
  "cells": [
    {
      "cell_type": "markdown",
      "metadata": {
        "id": "view-in-github",
        "colab_type": "text"
      },
      "source": [
        "[View in Colaboratory](https://colab.research.google.com/github/TomohiroKida/data_mining/blob/master/perceptron.ipynb)"
      ]
    },
    {
      "metadata": {
        "id": "Q4KukZgV5dJ4",
        "colab_type": "code",
        "colab": {}
      },
      "cell_type": "code",
      "source": [
        "import numpy as np\n",
        "import random\n",
        "import matplotlib.pyplot as plt"
      ],
      "execution_count": 0,
      "outputs": []
    },
    {
      "metadata": {
        "id": "heP9xF4w-77C",
        "colab_type": "code",
        "colab": {}
      },
      "cell_type": "code",
      "source": [
        "### define value\n",
        "#xs = ys = []\n",
        "MAX = 100\n",
        "Xs = np.array([[1,4,6],[1,1,4],[1,3,2],[1,7,3]])\n",
        "ts = np.array([-1,-1,1,1]) \n",
        "w  = np.array([-1,2,3])\n",
        "a  = 0.1"
      ],
      "execution_count": 0,
      "outputs": []
    },
    {
      "metadata": {
        "id": "9eYxGvovABIR",
        "colab_type": "code",
        "colab": {}
      },
      "cell_type": "code",
      "source": [
        "### define function\n",
        "# linear function  \n",
        "def F(w, x):\n",
        "  return np.dot(w,x.T)\n",
        "def ff(w, x):\n",
        "  return -(np.dot(x,(w[1]/w[2])))-(w[0]/w[2])\n",
        "# loss function\n",
        "def L(t, f):\n",
        "  return np.max([0.0,-t*f])"
      ],
      "execution_count": 0,
      "outputs": []
    },
    {
      "metadata": {
        "id": "0-nm4eOvAMsh",
        "colab_type": "code",
        "colab": {
          "base_uri": "https://localhost:8080/",
          "height": 389
        },
        "outputId": "e330ec33-aa16-474f-c07e-fa9ce350d12b"
      },
      "cell_type": "code",
      "source": [
        "### gradient descent\n",
        "for i in range(MAX):\n",
        "  n  = random.randint(0,3)\n",
        "  ti = ts[n]\n",
        "  xi = Xs[n]\n",
        "  li = L(ti, F(w, xi))\n",
        "  if li > 0 : wn = w - a*(-ti)*xi\n",
        "  else      : wn = w\n",
        "  w = wn\n",
        "  # DEBUG\n",
        "print i,n,ti,xi,fi,li,w\n",
        "### plot\n",
        "plt.xlim(0,10)\n",
        "plt.ylim(0,10)\n",
        "# plot data sets\n",
        "for i in [0,1]:\n",
        "  plt.plot(Xs[i,1]  , Xs[i,2]  , \"ro\")\n",
        "  plt.plot(Xs[i+2,1], Xs[i+2,2], \"go\")\n",
        "# plot linear function\n",
        "x = np.arange(0,10,0.01)\n",
        "plt.plot(x,ff(w, x), \"b-\")"
      ],
      "execution_count": 358,
      "outputs": [
        {
          "output_type": "stream",
          "text": [
            "99 2 1 [1 3 2] -1.3322676295501878e-15 0.0 [-1.7  0.9 -0.4]\n"
          ],
          "name": "stdout"
        },
        {
          "output_type": "execute_result",
          "data": {
            "text/plain": [
              "[<matplotlib.lines.Line2D at 0x7f3d06c84d50>]"
            ]
          },
          "metadata": {
            "tags": []
          },
          "execution_count": 358
        },
        {
          "output_type": "display_data",
          "data": {
            "image/png": "[encoded data removed]",
            "text/plain": [
              "<matplotlib.figure.Figure at 0x7f3d064f4710>"
            ]
          },
          "metadata": {
            "tags": []
          }
        }
      ]
    }
  ]
}